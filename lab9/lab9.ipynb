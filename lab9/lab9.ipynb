{
 "cells": [
  {
   "cell_type": "code",
   "execution_count": 2,
   "metadata": {},
   "outputs": [],
   "source": [
    "import pandas as pd\n",
    "import matplotlib.pyplot as plt\n",
    "equipment_df = pd.read_csv('./russia_losses_equipment.csv')"
   ]
  },
  {
   "cell_type": "code",
   "execution_count": null,
   "metadata": {},
   "outputs": [],
   "source": [
    "# Видалити строки з повторюваними значеннями та видалення Nan\n",
    "equipment_df = equipment_df.drop_duplicates()\n",
    "equipment_df = equipment_df.fillna(0)\n",
    "equipment_df"
   ]
  },
  {
   "cell_type": "code",
   "execution_count": null,
   "metadata": {},
   "outputs": [],
   "source": [
    "# Розрахунок основних статистичних показників\n",
    "equipment_df.describe()"
   ]
  },
  {
   "cell_type": "code",
   "execution_count": null,
   "metadata": {},
   "outputs": [],
   "source": [
    "# Групування та аналіз підгруп даних\n",
    "group = equipment_df.groupby('tank')['helicopter'].mean()\n",
    "display(group)"
   ]
  },
  {
   "cell_type": "code",
   "execution_count": null,
   "metadata": {},
   "outputs": [],
   "source": [
    "# Інформація про тип даних та кількість\n",
    "display(equipment_df.info())"
   ]
  },
  {
   "cell_type": "code",
   "execution_count": null,
   "metadata": {},
   "outputs": [],
   "source": [
    "# Сортування даних\n",
    "equipment_df = equipment_df.fillna(0)\n",
    "equipment_df = equipment_df.sort_values('aircraft' , ascending=False)\n",
    "equipment_df"
   ]
  },
  {
   "cell_type": "code",
   "execution_count": null,
   "metadata": {},
   "outputs": [],
   "source": [
    "# Візуалізація\n",
    "plt.figure(figsize=(5,5))\n",
    "plt.plot(equipment_df['day'], equipment_df['drone'], 'b*')\n",
    "plt.xlabel('drone')\n",
    "plt.ylabel('day')\n",
    "plt.title('Dynamic of drone loses')\n",
    "plt.show()"
   ]
  }
 ],
 "metadata": {
  "kernelspec": {
   "display_name": "Python 3",
   "language": "python",
   "name": "python3"
  },
  "language_info": {
   "codemirror_mode": {
    "name": "ipython",
    "version": 3
   },
   "file_extension": ".py",
   "mimetype": "text/x-python",
   "name": "python",
   "nbconvert_exporter": "python",
   "pygments_lexer": "ipython3",
   "version": "3.11.3"
  }
 },
 "nbformat": 4,
 "nbformat_minor": 2
}
